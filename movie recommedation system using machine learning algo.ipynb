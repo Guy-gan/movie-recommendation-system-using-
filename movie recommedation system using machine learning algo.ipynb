{
 "cells": [
  {
   "cell_type": "code",
   "execution_count": 2,
   "id": "675d9658",
   "metadata": {},
   "outputs": [],
   "source": [
    "#Import Dependencies\n",
    "import pandas as pd \n",
    "import time\n",
    "import difflib\n",
    "from sklearn.feature_extraction.text import TfidfVectorizer\n",
    "from sklearn.metrics.pairwise import cosine_similarity\n"
   ]
  },
  {
   "cell_type": "code",
   "execution_count": 7,
   "id": "cf506cbf",
   "metadata": {},
   "outputs": [],
   "source": [
    "# Load Data\n",
    "# Load the movie dataset\n",
    "movies_data=pd.read_csv(r\"D:\\GS CS\\CS SEM-II\\Machine Learning\\movie recommendation system\\Movies_list.csv\")\n"
   ]
  },
  {
   "cell_type": "code",
   "execution_count": 8,
   "id": "16d378b0",
   "metadata": {},
   "outputs": [],
   "source": [
    "# Preprocess Data\n",
    "# Select relevant features\n",
    "selected_features = ['genres', 'keywords', 'tagline', 'cast', 'director']\n",
    "\n",
    "# Fill missing values\n",
    "for feature in selected_features:\n",
    "    movies_data[feature] = movies_data[feature].fillna('')\n"
   ]
  },
  {
   "cell_type": "code",
   "execution_count": 9,
   "id": "8cce1f13",
   "metadata": {},
   "outputs": [],
   "source": [
    "# Combine Features\n",
    "# Combine selected features into a single string\n",
    "combined_features = movies_data[selected_features].agg(' '.join, axis=1)\n"
   ]
  },
  {
   "cell_type": "code",
   "execution_count": 10,
   "id": "3c6c9593",
   "metadata": {},
   "outputs": [],
   "source": [
    "# Vectorize Features \n",
    "# Convert text data to feature vectors\n",
    "vectorize = TfidfVectorizer()\n",
    "features_vectors = vectorize.fit_transform(combined_features)\n"
   ]
  },
  {
   "cell_type": "code",
   "execution_count": 11,
   "id": "baf96fb0",
   "metadata": {},
   "outputs": [],
   "source": [
    "# Calculate Similarity\n",
    "# Compute cosine similarity\n",
    "similarity = cosine_similarity(features_vectors)\n"
   ]
  },
  {
   "cell_type": "code",
   "execution_count": 12,
   "id": "1d51c84f",
   "metadata": {},
   "outputs": [
    {
     "name": "stdout",
     "output_type": "stream",
     "text": [
      "Enter your favourite movie name: avatar\n"
     ]
    }
   ],
   "source": [
    "# User Input\n",
    "# Get movie name from user\n",
    "movie_name = input(\"Enter your favourite movie name: \")\n"
   ]
  },
  {
   "cell_type": "code",
   "execution_count": 13,
   "id": "33e41c28",
   "metadata": {},
   "outputs": [],
   "source": [
    "# Find Closest Match\n",
    "# Get a list of all movie titles\n",
    "list_of_all_titles = movies_data['title'].tolist()\n",
    "\n",
    "# Find close match for the user input\n",
    "find_close_match = difflib.get_close_matches(movie_name, list_of_all_titles)\n"
   ]
  },
  {
   "cell_type": "code",
   "execution_count": 15,
   "id": "bacf9db8",
   "metadata": {},
   "outputs": [
    {
     "name": "stdout",
     "output_type": "stream",
     "text": [
      "Movies suggested for you: \n",
      "\n",
      "1. Avatar\n",
      "2. Alien\n",
      "3. Aliens\n",
      "4. Guardians of the Galaxy\n",
      "5. Star Trek Beyond\n",
      "6. Star Trek Into Darkness\n",
      "7. Galaxy Quest\n",
      "8. Alien³\n",
      "9. Cargo\n",
      "10. Trekkies\n"
     ]
    }
   ],
   "source": [
    "# Get Recommendations\n",
    "if find_close_match:\n",
    "    close_match = find_close_match[0]\n",
    "    index_of_movie = movies_data[movies_data.title == close_match]['index'].values[0]\n",
    "    similarity_scores = list(enumerate(similarity[index_of_movie]))\n",
    "    sorted_movies = sorted(similarity_scores, key=lambda x: x[1], reverse=True)\n",
    "    \n",
    "    print(\"Movies suggested for you: \\n\")\n",
    "    for i, (index, score) in enumerate(sorted_movies[:10]):\n",
    "        title = movies_data.iloc[index]['title']\n",
    "        print(f\"{i+1}. {title}\")\n",
    "else:\n",
    "    print(\"Sorry! This movie is not present in our database.\")\n",
    "    time.sleep(5)\n"
   ]
  },
  {
   "cell_type": "code",
   "execution_count": null,
   "id": "e92b7ef6",
   "metadata": {},
   "outputs": [],
   "source": []
  },
  {
   "cell_type": "code",
   "execution_count": null,
   "id": "56d38e9b",
   "metadata": {},
   "outputs": [],
   "source": []
  }
 ],
 "metadata": {
  "kernelspec": {
   "display_name": "Python 3 (ipykernel)",
   "language": "python",
   "name": "python3"
  },
  "language_info": {
   "codemirror_mode": {
    "name": "ipython",
    "version": 3
   },
   "file_extension": ".py",
   "mimetype": "text/x-python",
   "name": "python",
   "nbconvert_exporter": "python",
   "pygments_lexer": "ipython3",
   "version": "3.11.4"
  }
 },
 "nbformat": 4,
 "nbformat_minor": 5
}
